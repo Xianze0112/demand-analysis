{
 "cells": [
  {
   "cell_type": "code",
   "execution_count": 1,
   "metadata": {},
   "outputs": [],
   "source": [
    "import pandas as pd\n",
    "import numpy as np\n"
   ]
  },
  {
   "cell_type": "code",
   "execution_count": 2,
   "metadata": {},
   "outputs": [],
   "source": [
    "csv_path = r'/Users/mengxianze/TYUT/analyse/太理校集B(1).csv'"
   ]
  },
  {
   "cell_type": "code",
   "execution_count": 3,
   "metadata": {},
   "outputs": [
    {
     "data": {
      "text/html": [
       "<div>\n",
       "<style scoped>\n",
       "    .dataframe tbody tr th:only-of-type {\n",
       "        vertical-align: middle;\n",
       "    }\n",
       "\n",
       "    .dataframe tbody tr th {\n",
       "        vertical-align: top;\n",
       "    }\n",
       "\n",
       "    .dataframe thead th {\n",
       "        text-align: right;\n",
       "    }\n",
       "</style>\n",
       "<table border=\"1\" class=\"dataframe\">\n",
       "  <thead>\n",
       "    <tr style=\"text-align: right;\">\n",
       "      <th></th>\n",
       "      <th>localId</th>\n",
       "      <th>TalkerId</th>\n",
       "      <th>Type</th>\n",
       "      <th>SubType</th>\n",
       "      <th>IsSender</th>\n",
       "      <th>CreateTime</th>\n",
       "      <th>Status</th>\n",
       "      <th>StrContent</th>\n",
       "      <th>StrTime</th>\n",
       "      <th>Remark</th>\n",
       "      <th>NickName</th>\n",
       "      <th>Sender</th>\n",
       "    </tr>\n",
       "  </thead>\n",
       "  <tbody>\n",
       "    <tr>\n",
       "      <th>0</th>\n",
       "      <td>90530</td>\n",
       "      <td>63</td>\n",
       "      <td>10000</td>\n",
       "      <td>0</td>\n",
       "      <td>0</td>\n",
       "      <td>1676283859</td>\n",
       "      <td>NaN</td>\n",
       "      <td>\"商务合作@赞噢集市、进群请看群公告@赞噢集市、👉@赞噢集市\"为企业微信用户，&lt;_wc_cu...</td>\n",
       "      <td>2023-02-13 18:24:19</td>\n",
       "      <td>NaN</td>\n",
       "      <td>NaN</td>\n",
       "      <td>NaN</td>\n",
       "    </tr>\n",
       "    <tr>\n",
       "      <th>1</th>\n",
       "      <td>90531</td>\n",
       "      <td>63</td>\n",
       "      <td>10000</td>\n",
       "      <td>0</td>\n",
       "      <td>0</td>\n",
       "      <td>1676283867</td>\n",
       "      <td>NaN</td>\n",
       "      <td>\"士多啤梨\"邀请你加入了群聊，群聊参与人还有：商务合作@赞噢集市、👉@赞噢集市、进群请看公告...</td>\n",
       "      <td>2023-02-13 18:24:27</td>\n",
       "      <td>NaN</td>\n",
       "      <td>NaN</td>\n",
       "      <td>NaN</td>\n",
       "    </tr>\n",
       "    <tr>\n",
       "      <th>2</th>\n",
       "      <td>90535</td>\n",
       "      <td>63</td>\n",
       "      <td>1</td>\n",
       "      <td>0</td>\n",
       "      <td>0</td>\n",
       "      <td>1676283954</td>\n",
       "      <td>NaN</td>\n",
       "      <td>食堂有没有卖临汾牛肉丸子面的\\nhttps://c.zanao.com/l/1ONXF1\\n...</td>\n",
       "      <td>2023-02-13 18:25:54</td>\n",
       "      <td>👉@</td>\n",
       "      <td>👉</td>\n",
       "      <td>25984982968481657@openim</td>\n",
       "    </tr>\n",
       "    <tr>\n",
       "      <th>3</th>\n",
       "      <td>90546</td>\n",
       "      <td>63</td>\n",
       "      <td>1</td>\n",
       "      <td>0</td>\n",
       "      <td>0</td>\n",
       "      <td>1676284920</td>\n",
       "      <td>NaN</td>\n",
       "      <td>出一根线\\nhttps://c.zanao.com/l/1ONYGc\\n\\n快递可以放一两天...</td>\n",
       "      <td>2023-02-13 18:42:00</td>\n",
       "      <td>👉@</td>\n",
       "      <td>👉</td>\n",
       "      <td>25984982968481657@openim</td>\n",
       "    </tr>\n",
       "    <tr>\n",
       "      <th>4</th>\n",
       "      <td>90549</td>\n",
       "      <td>63</td>\n",
       "      <td>1</td>\n",
       "      <td>0</td>\n",
       "      <td>0</td>\n",
       "      <td>1676286020</td>\n",
       "      <td>NaN</td>\n",
       "      <td>18号晚十点武宿到迎西一人\\nhttps://c.zanao.com/l/1ONZgC\\n\\...</td>\n",
       "      <td>2023-02-13 19:00:20</td>\n",
       "      <td>👉@</td>\n",
       "      <td>👉</td>\n",
       "      <td>25984982968481657@openim</td>\n",
       "    </tr>\n",
       "  </tbody>\n",
       "</table>\n",
       "</div>"
      ],
      "text/plain": [
       "   localId  TalkerId   Type  SubType  IsSender  CreateTime  Status  \\\n",
       "0    90530        63  10000        0         0  1676283859     NaN   \n",
       "1    90531        63  10000        0         0  1676283867     NaN   \n",
       "2    90535        63      1        0         0  1676283954     NaN   \n",
       "3    90546        63      1        0         0  1676284920     NaN   \n",
       "4    90549        63      1        0         0  1676286020     NaN   \n",
       "\n",
       "                                          StrContent              StrTime  \\\n",
       "0  \"商务合作@赞噢集市、进群请看群公告@赞噢集市、👉@赞噢集市\"为企业微信用户，<_wc_cu...  2023-02-13 18:24:19   \n",
       "1  \"士多啤梨\"邀请你加入了群聊，群聊参与人还有：商务合作@赞噢集市、👉@赞噢集市、进群请看公告...  2023-02-13 18:24:27   \n",
       "2  食堂有没有卖临汾牛肉丸子面的\\nhttps://c.zanao.com/l/1ONXF1\\n...  2023-02-13 18:25:54   \n",
       "3  出一根线\\nhttps://c.zanao.com/l/1ONYGc\\n\\n快递可以放一两天...  2023-02-13 18:42:00   \n",
       "4  18号晚十点武宿到迎西一人\\nhttps://c.zanao.com/l/1ONZgC\\n\\...  2023-02-13 19:00:20   \n",
       "\n",
       "  Remark NickName                    Sender  \n",
       "0    NaN      NaN                       NaN  \n",
       "1    NaN      NaN                       NaN  \n",
       "2     👉@        👉  25984982968481657@openim  \n",
       "3     👉@        👉  25984982968481657@openim  \n",
       "4     👉@        👉  25984982968481657@openim  "
      ]
     },
     "execution_count": 3,
     "metadata": {},
     "output_type": "execute_result"
    }
   ],
   "source": [
    "df = pd.read_csv(csv_path)\n",
    "# 每一列的数据类型和示例数据\n",
    "df.head()\n"
   ]
  },
  {
   "cell_type": "code",
   "execution_count": 4,
   "metadata": {},
   "outputs": [],
   "source": [
    "demand_df = df[['StrContent', 'StrTime']]"
   ]
  },
  {
   "cell_type": "code",
   "execution_count": 5,
   "metadata": {},
   "outputs": [
    {
     "data": {
      "text/html": [
       "<div>\n",
       "<style scoped>\n",
       "    .dataframe tbody tr th:only-of-type {\n",
       "        vertical-align: middle;\n",
       "    }\n",
       "\n",
       "    .dataframe tbody tr th {\n",
       "        vertical-align: top;\n",
       "    }\n",
       "\n",
       "    .dataframe thead th {\n",
       "        text-align: right;\n",
       "    }\n",
       "</style>\n",
       "<table border=\"1\" class=\"dataframe\">\n",
       "  <thead>\n",
       "    <tr style=\"text-align: right;\">\n",
       "      <th></th>\n",
       "      <th>StrContent</th>\n",
       "      <th>StrTime</th>\n",
       "    </tr>\n",
       "  </thead>\n",
       "  <tbody>\n",
       "    <tr>\n",
       "      <th>0</th>\n",
       "      <td>\"商务合作@赞噢集市、进群请看群公告@赞噢集市、👉@赞噢集市\"为企业微信用户，&lt;_wc_cu...</td>\n",
       "      <td>2023-02-13 18:24:19</td>\n",
       "    </tr>\n",
       "    <tr>\n",
       "      <th>1</th>\n",
       "      <td>\"士多啤梨\"邀请你加入了群聊，群聊参与人还有：商务合作@赞噢集市、👉@赞噢集市、进群请看公告...</td>\n",
       "      <td>2023-02-13 18:24:27</td>\n",
       "    </tr>\n",
       "    <tr>\n",
       "      <th>2</th>\n",
       "      <td>食堂有没有卖临汾牛肉丸子面的\\nhttps://c.zanao.com/l/1ONXF1\\n...</td>\n",
       "      <td>2023-02-13 18:25:54</td>\n",
       "    </tr>\n",
       "    <tr>\n",
       "      <th>3</th>\n",
       "      <td>出一根线\\nhttps://c.zanao.com/l/1ONYGc\\n\\n快递可以放一两天...</td>\n",
       "      <td>2023-02-13 18:42:00</td>\n",
       "    </tr>\n",
       "    <tr>\n",
       "      <th>4</th>\n",
       "      <td>18号晚十点武宿到迎西一人\\nhttps://c.zanao.com/l/1ONZgC\\n\\...</td>\n",
       "      <td>2023-02-13 19:00:20</td>\n",
       "    </tr>\n",
       "  </tbody>\n",
       "</table>\n",
       "</div>"
      ],
      "text/plain": [
       "                                          StrContent              StrTime\n",
       "0  \"商务合作@赞噢集市、进群请看群公告@赞噢集市、👉@赞噢集市\"为企业微信用户，<_wc_cu...  2023-02-13 18:24:19\n",
       "1  \"士多啤梨\"邀请你加入了群聊，群聊参与人还有：商务合作@赞噢集市、👉@赞噢集市、进群请看公告...  2023-02-13 18:24:27\n",
       "2  食堂有没有卖临汾牛肉丸子面的\\nhttps://c.zanao.com/l/1ONXF1\\n...  2023-02-13 18:25:54\n",
       "3  出一根线\\nhttps://c.zanao.com/l/1ONYGc\\n\\n快递可以放一两天...  2023-02-13 18:42:00\n",
       "4  18号晚十点武宿到迎西一人\\nhttps://c.zanao.com/l/1ONZgC\\n\\...  2023-02-13 19:00:20"
      ]
     },
     "execution_count": 5,
     "metadata": {},
     "output_type": "execute_result"
    }
   ],
   "source": [
    "demand_df.head()"
   ]
  },
  {
   "cell_type": "code",
   "execution_count": 6,
   "metadata": {},
   "outputs": [],
   "source": [
    "# 移除前两行,并且重新编号\n",
    "demand_df = demand_df.iloc[2:]\n",
    "demand_df.reset_index(drop=True, inplace=True)\n"
   ]
  },
  {
   "cell_type": "code",
   "execution_count": 7,
   "metadata": {},
   "outputs": [
    {
     "name": "stdout",
     "output_type": "stream",
     "text": [
      "                                          StrContent              StrTime\n",
      "0  食堂有没有卖临汾牛肉丸子面的\\nhttps://c.zanao.com/l/1ONXF1\\n...  2023-02-13 18:25:54\n",
      "1  出一根线\\nhttps://c.zanao.com/l/1ONYGc\\n\\n快递可以放一两天...  2023-02-13 18:42:00\n",
      "2  18号晚十点武宿到迎西一人\\nhttps://c.zanao.com/l/1ONZgC\\n\\...  2023-02-13 19:00:20\n",
      "3  明向电动车充电\\nhttps://c.zanao.com/l/1OO0Mt\\n\\n求问文科计...  2023-02-13 19:32:30\n",
      "4           靠背15出可小刀迎西\\nhttps://c.zanao.com/l/1OO1lr  2023-02-13 19:47:39\n",
      "StrContent    44129\n",
      "StrTime       46132\n",
      "dtype: int64\n"
     ]
    }
   ],
   "source": [
    "print(demand_df.head())\n",
    "print(demand_df.count())"
   ]
  },
  {
   "cell_type": "code",
   "execution_count": 8,
   "metadata": {},
   "outputs": [],
   "source": [
    "\n",
    "# 将 StrTime 列转换为 datetime 类型\n",
    "demand_df['StrTime'] = pd.to_datetime(demand_df['StrTime'])\n",
    "\n",
    "# 筛选 StrTime 在 2024-03-06 之后的所有行\n",
    "filtered_df = demand_df[demand_df['StrTime'] > '2024-03-06 00:00:00']\n"
   ]
  },
  {
   "cell_type": "code",
   "execution_count": 9,
   "metadata": {},
   "outputs": [],
   "source": [
    "filtered_df.reset_index(drop=True, inplace=True)"
   ]
  },
  {
   "cell_type": "code",
   "execution_count": 10,
   "metadata": {},
   "outputs": [
    {
     "data": {
      "text/plain": [
       "StrContent    23365\n",
       "StrTime       23389\n",
       "dtype: int64"
      ]
     },
     "execution_count": 10,
     "metadata": {},
     "output_type": "execute_result"
    }
   ],
   "source": [
    "filtered_df.count()"
   ]
  },
  {
   "cell_type": "code",
   "execution_count": 11,
   "metadata": {},
   "outputs": [],
   "source": [
    "filtered_df = filtered_df.dropna(subset=['StrContent'])\n",
    "filtered_df.reset_index(drop=True, inplace=True)"
   ]
  },
  {
   "cell_type": "code",
   "execution_count": 12,
   "metadata": {},
   "outputs": [],
   "source": [
    "content = filtered_df.loc[1, 'StrContent']\n",
    "time = filtered_df.loc[1, 'StrTime']"
   ]
  },
  {
   "cell_type": "code",
   "execution_count": 13,
   "metadata": {},
   "outputs": [],
   "source": [
    "lines = content.split('\\n')"
   ]
  },
  {
   "cell_type": "code",
   "execution_count": 14,
   "metadata": {},
   "outputs": [
    {
     "data": {
      "text/plain": [
       "['难道这个世界上找一个不吃辣的男朋友很难吗',\n",
       " 'https://c.zanoa.cn/l/1y1X7Ghv',\n",
       " '',\n",
       " '急收工程测量',\n",
       " 'https://c.zanoa.cn/l/1y1X7EEa',\n",
       " '',\n",
       " '麻烦刚刚撞我那哥们加我一下车轮歪了',\n",
       " 'https://c.zanoa.cn/l/1y1X7E1v',\n",
       " '',\n",
       " '有没有人在东餐捡到校**',\n",
       " 'https://c.zanoa.cn/l/1y1X7EVR',\n",
       " '',\n",
       " '综测奖学金',\n",
       " 'https://c.zanoa.cn/l/1y1X7Fuh',\n",
       " '',\n",
       " '明向出JAVA语言程序设计',\n",
       " 'https://c.zanoa.cn/l/1y1X7EXu']"
      ]
     },
     "execution_count": 14,
     "metadata": {},
     "output_type": "execute_result"
    }
   ],
   "source": [
    "lines"
   ]
  },
  {
   "cell_type": "code",
   "execution_count": 15,
   "metadata": {},
   "outputs": [],
   "source": [
    "# 删除列表中含有'://'的元素\n",
    "lines = [line for line in lines if '://' not in line and line != '']"
   ]
  },
  {
   "cell_type": "code",
   "execution_count": 16,
   "metadata": {},
   "outputs": [
    {
     "data": {
      "text/plain": [
       "['难道这个世界上找一个不吃辣的男朋友很难吗',\n",
       " '急收工程测量',\n",
       " '麻烦刚刚撞我那哥们加我一下车轮歪了',\n",
       " '有没有人在东餐捡到校**',\n",
       " '综测奖学金',\n",
       " '明向出JAVA语言程序设计']"
      ]
     },
     "execution_count": 16,
     "metadata": {},
     "output_type": "execute_result"
    }
   ],
   "source": [
    "lines"
   ]
  },
  {
   "cell_type": "code",
   "execution_count": 17,
   "metadata": {},
   "outputs": [],
   "source": [
    "new_df = pd.DataFrame({'content': lines, 'time': time})"
   ]
  },
  {
   "cell_type": "code",
   "execution_count": 18,
   "metadata": {},
   "outputs": [
    {
     "data": {
      "text/html": [
       "<div>\n",
       "<style scoped>\n",
       "    .dataframe tbody tr th:only-of-type {\n",
       "        vertical-align: middle;\n",
       "    }\n",
       "\n",
       "    .dataframe tbody tr th {\n",
       "        vertical-align: top;\n",
       "    }\n",
       "\n",
       "    .dataframe thead th {\n",
       "        text-align: right;\n",
       "    }\n",
       "</style>\n",
       "<table border=\"1\" class=\"dataframe\">\n",
       "  <thead>\n",
       "    <tr style=\"text-align: right;\">\n",
       "      <th></th>\n",
       "      <th>content</th>\n",
       "      <th>time</th>\n",
       "    </tr>\n",
       "  </thead>\n",
       "  <tbody>\n",
       "    <tr>\n",
       "      <th>0</th>\n",
       "      <td>难道这个世界上找一个不吃辣的男朋友很难吗</td>\n",
       "      <td>2024-03-06 13:38:02</td>\n",
       "    </tr>\n",
       "    <tr>\n",
       "      <th>1</th>\n",
       "      <td>急收工程测量</td>\n",
       "      <td>2024-03-06 13:38:02</td>\n",
       "    </tr>\n",
       "    <tr>\n",
       "      <th>2</th>\n",
       "      <td>麻烦刚刚撞我那哥们加我一下车轮歪了</td>\n",
       "      <td>2024-03-06 13:38:02</td>\n",
       "    </tr>\n",
       "    <tr>\n",
       "      <th>3</th>\n",
       "      <td>有没有人在东餐捡到校**</td>\n",
       "      <td>2024-03-06 13:38:02</td>\n",
       "    </tr>\n",
       "    <tr>\n",
       "      <th>4</th>\n",
       "      <td>综测奖学金</td>\n",
       "      <td>2024-03-06 13:38:02</td>\n",
       "    </tr>\n",
       "  </tbody>\n",
       "</table>\n",
       "</div>"
      ],
      "text/plain": [
       "                content                time\n",
       "0  难道这个世界上找一个不吃辣的男朋友很难吗 2024-03-06 13:38:02\n",
       "1                急收工程测量 2024-03-06 13:38:02\n",
       "2     麻烦刚刚撞我那哥们加我一下车轮歪了 2024-03-06 13:38:02\n",
       "3          有没有人在东餐捡到校** 2024-03-06 13:38:02\n",
       "4                 综测奖学金 2024-03-06 13:38:02"
      ]
     },
     "execution_count": 18,
     "metadata": {},
     "output_type": "execute_result"
    }
   ],
   "source": [
    "new_df.head()"
   ]
  },
  {
   "cell_type": "code",
   "execution_count": 19,
   "metadata": {},
   "outputs": [],
   "source": [
    "# 初始化一个空列表来存储内容和时间\n",
    "new_data = []\n",
    "\n",
    "# 遍历 filtered_df 的每一行\n",
    "for index, row in filtered_df.iterrows():\n",
    "    content = row['StrContent']\n",
    "    time = row['StrTime']\n",
    "    \n",
    "    # 根据换行符切分内容\n",
    "    lines = content.split('\\n')\n",
    "    \n",
    "    # 过滤掉含有 '://' 的元素和空字符串\n",
    "    lines = [line for line in lines if '://' not in line and line.strip()]\n",
    "    \n",
    "    # 将每一行的内容和时间添加到 new_data 列表中\n",
    "    for line in lines:\n",
    "        new_data.append({'content': line, 'time': time})\n",
    "\n",
    "# 创建 DataFrame\n",
    "new_df = pd.DataFrame(new_data)"
   ]
  },
  {
   "cell_type": "code",
   "execution_count": 20,
   "metadata": {},
   "outputs": [
    {
     "data": {
      "text/html": [
       "<div>\n",
       "<style scoped>\n",
       "    .dataframe tbody tr th:only-of-type {\n",
       "        vertical-align: middle;\n",
       "    }\n",
       "\n",
       "    .dataframe tbody tr th {\n",
       "        vertical-align: top;\n",
       "    }\n",
       "\n",
       "    .dataframe thead th {\n",
       "        text-align: right;\n",
       "    }\n",
       "</style>\n",
       "<table border=\"1\" class=\"dataframe\">\n",
       "  <thead>\n",
       "    <tr style=\"text-align: right;\">\n",
       "      <th></th>\n",
       "      <th>content</th>\n",
       "      <th>time</th>\n",
       "    </tr>\n",
       "  </thead>\n",
       "  <tbody>\n",
       "    <tr>\n",
       "      <th>0</th>\n",
       "      <td>软件大三上课本40r</td>\n",
       "      <td>2024-03-06 11:27:09</td>\n",
       "    </tr>\n",
       "    <tr>\n",
       "      <th>1</th>\n",
       "      <td>体测请假</td>\n",
       "      <td>2024-03-06 11:27:09</td>\n",
       "    </tr>\n",
       "    <tr>\n",
       "      <th>2</th>\n",
       "      <td>校医院能用医保吗</td>\n",
       "      <td>2024-03-06 11:27:09</td>\n",
       "    </tr>\n",
       "    <tr>\n",
       "      <th>3</th>\n",
       "      <td>入党问题</td>\n",
       "      <td>2024-03-06 11:27:09</td>\n",
       "    </tr>\n",
       "    <tr>\n",
       "      <th>4</th>\n",
       "      <td>网络安全工程转专业</td>\n",
       "      <td>2024-03-06 11:27:09</td>\n",
       "    </tr>\n",
       "    <tr>\n",
       "      <th>5</th>\n",
       "      <td>明向宿舍功率</td>\n",
       "      <td>2024-03-06 11:27:09</td>\n",
       "    </tr>\n",
       "    <tr>\n",
       "      <th>6</th>\n",
       "      <td>三创赛材料提交截止时间</td>\n",
       "      <td>2024-03-06 11:27:09</td>\n",
       "    </tr>\n",
       "    <tr>\n",
       "      <th>7</th>\n",
       "      <td>迎西出23毛概几乎全新</td>\n",
       "      <td>2024-03-06 11:27:09</td>\n",
       "    </tr>\n",
       "    <tr>\n",
       "      <th>8</th>\n",
       "      <td>65人专业综测排第十</td>\n",
       "      <td>2024-03-06 11:27:09</td>\n",
       "    </tr>\n",
       "    <tr>\n",
       "      <th>9</th>\n",
       "      <td>难道这个世界上找一个不吃辣的男朋友很难吗</td>\n",
       "      <td>2024-03-06 13:38:02</td>\n",
       "    </tr>\n",
       "    <tr>\n",
       "      <th>10</th>\n",
       "      <td>急收工程测量</td>\n",
       "      <td>2024-03-06 13:38:02</td>\n",
       "    </tr>\n",
       "    <tr>\n",
       "      <th>11</th>\n",
       "      <td>麻烦刚刚撞我那哥们加我一下车轮歪了</td>\n",
       "      <td>2024-03-06 13:38:02</td>\n",
       "    </tr>\n",
       "    <tr>\n",
       "      <th>12</th>\n",
       "      <td>有没有人在东餐捡到校**</td>\n",
       "      <td>2024-03-06 13:38:02</td>\n",
       "    </tr>\n",
       "    <tr>\n",
       "      <th>13</th>\n",
       "      <td>综测奖学金</td>\n",
       "      <td>2024-03-06 13:38:02</td>\n",
       "    </tr>\n",
       "    <tr>\n",
       "      <th>14</th>\n",
       "      <td>明向出JAVA语言程序设计</td>\n",
       "      <td>2024-03-06 13:38:02</td>\n",
       "    </tr>\n",
       "    <tr>\n",
       "      <th>15</th>\n",
       "      <td>地点求助</td>\n",
       "      <td>2024-03-06 15:20:44</td>\n",
       "    </tr>\n",
       "    <tr>\n",
       "      <th>16</th>\n",
       "      <td>出660数一全新</td>\n",
       "      <td>2024-03-06 15:20:44</td>\n",
       "    </tr>\n",
       "    <tr>\n",
       "      <th>17</th>\n",
       "      <td>收自行车</td>\n",
       "      <td>2024-03-06 15:20:44</td>\n",
       "    </tr>\n",
       "    <tr>\n",
       "      <th>18</th>\n",
       "      <td>有偿借套水粉画具</td>\n",
       "      <td>2024-03-06 15:20:44</td>\n",
       "    </tr>\n",
       "    <tr>\n",
       "      <th>19</th>\n",
       "      <td>出隐形眼镜护理液海昌水感觉蓝瓶</td>\n",
       "      <td>2024-03-06 15:20:44</td>\n",
       "    </tr>\n",
       "  </tbody>\n",
       "</table>\n",
       "</div>"
      ],
      "text/plain": [
       "                 content                time\n",
       "0             软件大三上课本40r 2024-03-06 11:27:09\n",
       "1                   体测请假 2024-03-06 11:27:09\n",
       "2               校医院能用医保吗 2024-03-06 11:27:09\n",
       "3                   入党问题 2024-03-06 11:27:09\n",
       "4              网络安全工程转专业 2024-03-06 11:27:09\n",
       "5                 明向宿舍功率 2024-03-06 11:27:09\n",
       "6            三创赛材料提交截止时间 2024-03-06 11:27:09\n",
       "7            迎西出23毛概几乎全新 2024-03-06 11:27:09\n",
       "8             65人专业综测排第十 2024-03-06 11:27:09\n",
       "9   难道这个世界上找一个不吃辣的男朋友很难吗 2024-03-06 13:38:02\n",
       "10                急收工程测量 2024-03-06 13:38:02\n",
       "11     麻烦刚刚撞我那哥们加我一下车轮歪了 2024-03-06 13:38:02\n",
       "12          有没有人在东餐捡到校** 2024-03-06 13:38:02\n",
       "13                 综测奖学金 2024-03-06 13:38:02\n",
       "14         明向出JAVA语言程序设计 2024-03-06 13:38:02\n",
       "15                  地点求助 2024-03-06 15:20:44\n",
       "16              出660数一全新 2024-03-06 15:20:44\n",
       "17                  收自行车 2024-03-06 15:20:44\n",
       "18              有偿借套水粉画具 2024-03-06 15:20:44\n",
       "19       出隐形眼镜护理液海昌水感觉蓝瓶 2024-03-06 15:20:44"
      ]
     },
     "execution_count": 20,
     "metadata": {},
     "output_type": "execute_result"
    }
   ],
   "source": [
    "new_df.head(20)"
   ]
  },
  {
   "cell_type": "code",
   "execution_count": 21,
   "metadata": {},
   "outputs": [
    {
     "data": {
      "text/plain": [
       "content    167215\n",
       "time       167215\n",
       "dtype: int64"
      ]
     },
     "execution_count": 21,
     "metadata": {},
     "output_type": "execute_result"
    }
   ],
   "source": [
    "new_df.count()"
   ]
  },
  {
   "cell_type": "code",
   "execution_count": 25,
   "metadata": {},
   "outputs": [
    {
     "data": {
      "image/png": "[encoded data removed]",
      "text/plain": [
       "<Figure size 1200x600 with 1 Axes>"
      ]
     },
     "metadata": {},
     "output_type": "display_data"
    }
   ],
   "source": [
    "import matplotlib.pyplot as plt\n",
    "import matplotlib\n",
    "\n",
    "# 设置中文字体\n",
    "matplotlib.rcParams['font.sans-serif'] = ['Arial Unicode MS']  # 或者使用其他支持中文的字体\n",
    "matplotlib.rcParams['axes.unicode_minus'] = False  # 解决负号显示问题\n",
    "\n",
    "# 确保 StrTime 列是 datetime 类型\n",
    "new_df['time'] = pd.to_datetime(new_df['time'])\n",
    "\n",
    "# 提取年份和月份\n",
    "new_df['year_month'] = new_df['time'].dt.to_period('M')\n",
    "\n",
    "# 按年份和月份分组并计数\n",
    "monthly_counts = new_df.groupby('year_month').size().reset_index(name='count')\n",
    "\n",
    "# 将 year_month 转换为字符串以便于绘图\n",
    "monthly_counts['year_month'] = monthly_counts['year_month'].astype(str)\n",
    "\n",
    "# 绘制折线图\n",
    "plt.figure(figsize=(12, 6))\n",
    "plt.plot(monthly_counts['year_month'], monthly_counts['count'], marker='o')\n",
    "plt.title('发帖数统计')\n",
    "plt.xlabel('年份-月份')\n",
    "plt.ylabel('行数')\n",
    "plt.xticks(rotation=45)  # 旋转 x 轴标签以便于阅读\n",
    "plt.grid()\n",
    "plt.tight_layout()  # 自动调整布局\n",
    "plt.show()"
   ]
  },
  {
   "cell_type": "code",
   "execution_count": null,
   "metadata": {},
   "outputs": [],
   "source": []
  }
 ],
 "metadata": {
  "kernelspec": {
   "display_name": "analyse_demand",
   "language": "python",
   "name": "python3"
  },
  "language_info": {
   "codemirror_mode": {
    "name": "ipython",
    "version": 3
   },
   "file_extension": ".py",
   "mimetype": "text/x-python",
   "name": "python",
   "nbconvert_exporter": "python",
   "pygments_lexer": "ipython3",
   "version": "3.9.6"
  }
 },
 "nbformat": 4,
 "nbformat_minor": 2
}
